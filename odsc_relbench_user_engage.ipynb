{
  "cells": [
    {
      "cell_type": "code",
      "execution_count": 1,
      "id": "315ab50e-23ff-4b66-877c-edc701ace340",
      "metadata": {
        "id": "315ab50e-23ff-4b66-877c-edc701ace340",
        "outputId": "eb64d507-c179-4839-d74a-7c7f1ce02d2e",
        "colab": {
          "base_uri": "https://localhost:8080/"
        }
      },
      "outputs": [
        {
          "output_type": "stream",
          "name": "stdout",
          "text": [
            "Requirement already satisfied: pandas in /usr/local/lib/python3.12/dist-packages (2.2.2)\n",
            "Collecting pytorch-frame\n",
            "  Downloading pytorch_frame-0.2.5-py3-none-any.whl.metadata (20 kB)\n",
            "Collecting catboost\n",
            "  Downloading catboost-1.2.8-cp312-cp312-manylinux2014_x86_64.whl.metadata (1.2 kB)\n",
            "Requirement already satisfied: scikit-learn in /usr/local/lib/python3.12/dist-packages (1.6.1)\n",
            "Requirement already satisfied: numpy>=1.26.0 in /usr/local/lib/python3.12/dist-packages (from pandas) (2.0.2)\n",
            "Requirement already satisfied: python-dateutil>=2.8.2 in /usr/local/lib/python3.12/dist-packages (from pandas) (2.9.0.post0)\n",
            "Requirement already satisfied: pytz>=2020.1 in /usr/local/lib/python3.12/dist-packages (from pandas) (2025.2)\n",
            "Requirement already satisfied: tzdata>=2022.7 in /usr/local/lib/python3.12/dist-packages (from pandas) (2025.2)\n",
            "Requirement already satisfied: torch in /usr/local/lib/python3.12/dist-packages (from pytorch-frame) (2.8.0+cu126)\n",
            "Requirement already satisfied: tqdm in /usr/local/lib/python3.12/dist-packages (from pytorch-frame) (4.67.1)\n",
            "Requirement already satisfied: pyarrow in /usr/local/lib/python3.12/dist-packages (from pytorch-frame) (18.1.0)\n",
            "Requirement already satisfied: Pillow in /usr/local/lib/python3.12/dist-packages (from pytorch-frame) (11.3.0)\n",
            "Requirement already satisfied: graphviz in /usr/local/lib/python3.12/dist-packages (from catboost) (0.21)\n",
            "Requirement already satisfied: matplotlib in /usr/local/lib/python3.12/dist-packages (from catboost) (3.10.0)\n",
            "Requirement already satisfied: scipy in /usr/local/lib/python3.12/dist-packages (from catboost) (1.16.3)\n",
            "Requirement already satisfied: plotly in /usr/local/lib/python3.12/dist-packages (from catboost) (5.24.1)\n",
            "Requirement already satisfied: six in /usr/local/lib/python3.12/dist-packages (from catboost) (1.17.0)\n",
            "Requirement already satisfied: joblib>=1.2.0 in /usr/local/lib/python3.12/dist-packages (from scikit-learn) (1.5.2)\n",
            "Requirement already satisfied: threadpoolctl>=3.1.0 in /usr/local/lib/python3.12/dist-packages (from scikit-learn) (3.6.0)\n",
            "Requirement already satisfied: contourpy>=1.0.1 in /usr/local/lib/python3.12/dist-packages (from matplotlib->catboost) (1.3.3)\n",
            "Requirement already satisfied: cycler>=0.10 in /usr/local/lib/python3.12/dist-packages (from matplotlib->catboost) (0.12.1)\n",
            "Requirement already satisfied: fonttools>=4.22.0 in /usr/local/lib/python3.12/dist-packages (from matplotlib->catboost) (4.60.1)\n",
            "Requirement already satisfied: kiwisolver>=1.3.1 in /usr/local/lib/python3.12/dist-packages (from matplotlib->catboost) (1.4.9)\n",
            "Requirement already satisfied: packaging>=20.0 in /usr/local/lib/python3.12/dist-packages (from matplotlib->catboost) (25.0)\n",
            "Requirement already satisfied: pyparsing>=2.3.1 in /usr/local/lib/python3.12/dist-packages (from matplotlib->catboost) (3.2.5)\n",
            "Requirement already satisfied: tenacity>=6.2.0 in /usr/local/lib/python3.12/dist-packages (from plotly->catboost) (8.5.0)\n",
            "Requirement already satisfied: filelock in /usr/local/lib/python3.12/dist-packages (from torch->pytorch-frame) (3.20.0)\n",
            "Requirement already satisfied: typing-extensions>=4.10.0 in /usr/local/lib/python3.12/dist-packages (from torch->pytorch-frame) (4.15.0)\n",
            "Requirement already satisfied: setuptools in /usr/local/lib/python3.12/dist-packages (from torch->pytorch-frame) (75.2.0)\n",
            "Requirement already satisfied: sympy>=1.13.3 in /usr/local/lib/python3.12/dist-packages (from torch->pytorch-frame) (1.13.3)\n",
            "Requirement already satisfied: networkx in /usr/local/lib/python3.12/dist-packages (from torch->pytorch-frame) (3.5)\n",
            "Requirement already satisfied: jinja2 in /usr/local/lib/python3.12/dist-packages (from torch->pytorch-frame) (3.1.6)\n",
            "Requirement already satisfied: fsspec in /usr/local/lib/python3.12/dist-packages (from torch->pytorch-frame) (2025.3.0)\n",
            "Requirement already satisfied: nvidia-cuda-nvrtc-cu12==12.6.77 in /usr/local/lib/python3.12/dist-packages (from torch->pytorch-frame) (12.6.77)\n",
            "Requirement already satisfied: nvidia-cuda-runtime-cu12==12.6.77 in /usr/local/lib/python3.12/dist-packages (from torch->pytorch-frame) (12.6.77)\n",
            "Requirement already satisfied: nvidia-cuda-cupti-cu12==12.6.80 in /usr/local/lib/python3.12/dist-packages (from torch->pytorch-frame) (12.6.80)\n",
            "Requirement already satisfied: nvidia-cudnn-cu12==9.10.2.21 in /usr/local/lib/python3.12/dist-packages (from torch->pytorch-frame) (9.10.2.21)\n",
            "Requirement already satisfied: nvidia-cublas-cu12==12.6.4.1 in /usr/local/lib/python3.12/dist-packages (from torch->pytorch-frame) (12.6.4.1)\n",
            "Requirement already satisfied: nvidia-cufft-cu12==11.3.0.4 in /usr/local/lib/python3.12/dist-packages (from torch->pytorch-frame) (11.3.0.4)\n",
            "Requirement already satisfied: nvidia-curand-cu12==10.3.7.77 in /usr/local/lib/python3.12/dist-packages (from torch->pytorch-frame) (10.3.7.77)\n",
            "Requirement already satisfied: nvidia-cusolver-cu12==11.7.1.2 in /usr/local/lib/python3.12/dist-packages (from torch->pytorch-frame) (11.7.1.2)\n",
            "Requirement already satisfied: nvidia-cusparse-cu12==12.5.4.2 in /usr/local/lib/python3.12/dist-packages (from torch->pytorch-frame) (12.5.4.2)\n",
            "Requirement already satisfied: nvidia-cusparselt-cu12==0.7.1 in /usr/local/lib/python3.12/dist-packages (from torch->pytorch-frame) (0.7.1)\n",
            "Requirement already satisfied: nvidia-nccl-cu12==2.27.3 in /usr/local/lib/python3.12/dist-packages (from torch->pytorch-frame) (2.27.3)\n",
            "Requirement already satisfied: nvidia-nvtx-cu12==12.6.77 in /usr/local/lib/python3.12/dist-packages (from torch->pytorch-frame) (12.6.77)\n",
            "Requirement already satisfied: nvidia-nvjitlink-cu12==12.6.85 in /usr/local/lib/python3.12/dist-packages (from torch->pytorch-frame) (12.6.85)\n",
            "Requirement already satisfied: nvidia-cufile-cu12==1.11.1.6 in /usr/local/lib/python3.12/dist-packages (from torch->pytorch-frame) (1.11.1.6)\n",
            "Requirement already satisfied: triton==3.4.0 in /usr/local/lib/python3.12/dist-packages (from torch->pytorch-frame) (3.4.0)\n",
            "Requirement already satisfied: mpmath<1.4,>=1.1.0 in /usr/local/lib/python3.12/dist-packages (from sympy>=1.13.3->torch->pytorch-frame) (1.3.0)\n",
            "Requirement already satisfied: MarkupSafe>=2.0 in /usr/local/lib/python3.12/dist-packages (from jinja2->torch->pytorch-frame) (3.0.3)\n",
            "Downloading pytorch_frame-0.2.5-py3-none-any.whl (144 kB)\n",
            "\u001b[2K   \u001b[90m━━━━━━━━━━━━━━━━━━━━━━━━━━━━━━━━━━━━━━━━\u001b[0m \u001b[32m144.7/144.7 kB\u001b[0m \u001b[31m3.2 MB/s\u001b[0m eta \u001b[36m0:00:00\u001b[0m\n",
            "\u001b[?25hDownloading catboost-1.2.8-cp312-cp312-manylinux2014_x86_64.whl (99.2 MB)\n",
            "\u001b[2K   \u001b[90m━━━━━━━━━━━━━━━━━━━━━━━━━━━━━━━━━━━━━━━━\u001b[0m \u001b[32m99.2/99.2 MB\u001b[0m \u001b[31m7.7 MB/s\u001b[0m eta \u001b[36m0:00:00\u001b[0m\n",
            "\u001b[?25hInstalling collected packages: catboost, pytorch-frame\n",
            "Successfully installed catboost-1.2.8 pytorch-frame-0.2.5\n"
          ]
        }
      ],
      "source": [
        "!pip install pandas pytorch-frame catboost scikit-learn"
      ]
    },
    {
      "cell_type": "code",
      "execution_count": 2,
      "id": "3d9ccd8c-e550-4394-84c5-127243c4799e",
      "metadata": {
        "id": "3d9ccd8c-e550-4394-84c5-127243c4799e"
      },
      "outputs": [],
      "source": [
        "import pandas as pd\n",
        "from sklearn import metrics\n",
        "from sklearn.model_selection import train_test_split\n",
        "import catboost\n",
        "from torch_frame.utils import infer_df_stype"
      ]
    },
    {
      "cell_type": "code",
      "execution_count": 3,
      "id": "8d07f86c-2a6c-429c-a0b9-4b190feef243",
      "metadata": {
        "id": "8d07f86c-2a6c-429c-a0b9-4b190feef243"
      },
      "outputs": [],
      "source": [
        "pd.set_option('display.max_columns', 1000)"
      ]
    },
    {
      "cell_type": "code",
      "execution_count": 4,
      "id": "0cc7631d-fb84-4dee-b674-db5ba69631e3",
      "metadata": {
        "id": "0cc7631d-fb84-4dee-b674-db5ba69631e3"
      },
      "outputs": [],
      "source": [
        "df = pd.read_parquet('https://kurve-customers.s3.amazonaws.com/4e1a245a-3065-4600-bb0e-a92e06ee835c/1/output/user_engage_odsc_eval')\n",
        "test = pd.read_parquet('https://kurve-customers.s3.amazonaws.com/4e1a245a-3065-4600-bb0e-a92e06ee835c/1/output/user_engage_odsc_test')"
      ]
    },
    {
      "cell_type": "code",
      "execution_count": 5,
      "id": "2880cc82-e09c-45bc-aab9-717f860cc553",
      "metadata": {
        "id": "2880cc82-e09c-45bc-aab9-717f860cc553",
        "outputId": "37586ef9-8f02-4437-cdea-d0ebfa414408",
        "colab": {
          "base_uri": "https://localhost:8080/"
        }
      },
      "outputs": [
        {
          "output_type": "stream",
          "name": "stdout",
          "text": [
            "(87789, 229)\n",
            "(67191, 232)\n"
          ]
        }
      ],
      "source": [
        "print(test.shape)\n",
        "print(df.shape)"
      ]
    },
    {
      "cell_type": "code",
      "execution_count": 5,
      "id": "ef1ee9c2-8c13-4cc2-92d5-733648e452e7",
      "metadata": {
        "id": "ef1ee9c2-8c13-4cc2-92d5-733648e452e7"
      },
      "outputs": [],
      "source": []
    },
    {
      "cell_type": "code",
      "execution_count": 6,
      "id": "d41fd62c-89b5-464d-8926-0e6ce1b58655",
      "metadata": {
        "id": "d41fd62c-89b5-464d-8926-0e6ce1b58655",
        "outputId": "867fa631-f8c9-4e4f-ceda-f305ca39129c",
        "colab": {
          "base_uri": "https://localhost:8080/"
        }
      },
      "outputs": [
        {
          "output_type": "execute_result",
          "data": {
            "text/plain": [
              "['User_had_engagement']"
            ]
          },
          "metadata": {},
          "execution_count": 6
        }
      ],
      "source": [
        "[c for c in test.columns if 'had_engagement' in c]"
      ]
    },
    {
      "cell_type": "code",
      "execution_count": 7,
      "id": "42467b22-ab40-4fb9-943e-acf5562bf4e5",
      "metadata": {
        "id": "42467b22-ab40-4fb9-943e-acf5562bf4e5",
        "outputId": "b5211838-32c8-4ff6-fd8f-0f7224d9f680",
        "colab": {
          "base_uri": "https://localhost:8080/"
        }
      },
      "outputs": [
        {
          "output_type": "stream",
          "name": "stdout",
          "text": [
            "0.027338277005091755\n",
            "0.0295822939092597\n"
          ]
        }
      ],
      "source": [
        "print(test['User_had_engagement'].sum()/len(test))\n",
        "print(df['User_had_engagement'].sum()/len(test))"
      ]
    },
    {
      "cell_type": "code",
      "execution_count": 8,
      "id": "5f7dff31-10f5-483b-905d-bff327011e60",
      "metadata": {
        "id": "5f7dff31-10f5-483b-905d-bff327011e60"
      },
      "outputs": [],
      "source": [
        "stypes = infer_df_stype(test)"
      ]
    },
    {
      "cell_type": "code",
      "execution_count": 9,
      "id": "9bf3c180-aa43-4dc2-aaea-19b25d69505a",
      "metadata": {
        "id": "9bf3c180-aa43-4dc2-aaea-19b25d69505a"
      },
      "outputs": [],
      "source": [
        "features = [\n",
        "    k for k,v in stypes.items()\n",
        "    if str(v) == 'numerical'\n",
        "    and k not in ['User_Id', 'User_AccountId']\n",
        "    and 'label' not in k and k != 'had_engagement']"
      ]
    },
    {
      "cell_type": "code",
      "execution_count": 10,
      "id": "6256fdb7-a43a-4417-9385-7f218d3f32ee",
      "metadata": {
        "id": "6256fdb7-a43a-4417-9385-7f218d3f32ee",
        "outputId": "fafd6299-d28e-4f25-9f9a-a624c4627704",
        "colab": {
          "base_uri": "https://localhost:8080/"
        }
      },
      "outputs": [
        {
          "output_type": "execute_result",
          "data": {
            "text/plain": [
              "190"
            ]
          },
          "metadata": {},
          "execution_count": 10
        }
      ],
      "source": [
        "len(features)"
      ]
    },
    {
      "cell_type": "code",
      "execution_count": 11,
      "id": "c26a2de7-d0e1-417f-8a98-d3a149ec1836",
      "metadata": {
        "id": "c26a2de7-d0e1-417f-8a98-d3a149ec1836"
      },
      "outputs": [],
      "source": [
        "features = [c for c in features if c in df.columns]"
      ]
    },
    {
      "cell_type": "code",
      "execution_count": 12,
      "id": "7a949b98-3bbd-4592-ad94-71359f51247e",
      "metadata": {
        "id": "7a949b98-3bbd-4592-ad94-71359f51247e",
        "outputId": "9d17a760-e105-4649-f263-a2ea3af24e02",
        "colab": {
          "base_uri": "https://localhost:8080/"
        }
      },
      "outputs": [
        {
          "output_type": "stream",
          "name": "stdout",
          "text": [
            "\n",
            "=== Fold 1 ===\n",
            "Fold 1 validation AUC : 0.8842\n",
            "\n",
            "=== Fold 2 ===\n",
            "Fold 2 validation AUC : 0.8825\n",
            "\n",
            "=== Fold 3 ===\n",
            "Fold 3 validation AUC : 0.8768\n",
            "\n",
            "=== CV Summary ===\n",
            "Mean CV AUC : 0.8812 ± 0.0032\n",
            "Folds AUC   : ['0.8842', '0.8825', '0.8768']\n",
            "\n",
            "Final test AUC (averaged over 3 folds): 0.8897\n",
            "0:\ttotal: 60.1ms\tremaining: 8.41s\n",
            "140:\ttotal: 11.3s\tremaining: 0us\n"
          ]
        },
        {
          "output_type": "execute_result",
          "data": {
            "text/plain": [
              "<catboost.core.CatBoostClassifier at 0x7bfd880995b0>"
            ]
          },
          "metadata": {},
          "execution_count": 12
        }
      ],
      "source": [
        "target = 'User_had_engagement'\n",
        "\n",
        "\n",
        "import numpy as np\n",
        "from sklearn.model_selection import StratifiedKFold\n",
        "from sklearn.metrics import roc_auc_score\n",
        "from catboost import CatBoostClassifier, Pool\n",
        "\n",
        "# -------------------------------------------------\n",
        "# 1. Split off the *final* test set (once!)\n",
        "# -------------------------------------------------\n",
        "X_train_full, X_test, y_train_full, y_test = train_test_split(\n",
        "    df[features], df[target],\n",
        "    test_size=0.20,          # 20 % held-out test\n",
        "    stratify=df[target],\n",
        "    random_state=42\n",
        ")\n",
        "\n",
        "# -------------------------------------------------\n",
        "# 2. K-Fold CV on the remaining 80 %\n",
        "# -------------------------------------------------\n",
        "k = 3                                   # change to 10, etc.\n",
        "skf = StratifiedKFold(n_splits=k, shuffle=True, random_state=42)\n",
        "\n",
        "fold_aucs = []\n",
        "test_preds = np.zeros(len(X_test))      # out-of-fold predictions on *test*\n",
        "oof_preds = np.zeros(len(X_train_full)) # optional: OOF on training data\n",
        "\n",
        "# CatBoost pools (optional but faster)\n",
        "train_pool = Pool(X_train_full, y_train_full)  # , cat_features=cat_features)\n",
        "\n",
        "for fold, (idx_tr, idx_va) in enumerate(skf.split(X_train_full, y_train_full), 1):\n",
        "    print(f\"\\n=== Fold {fold} ===\")\n",
        "\n",
        "    X_tr, X_va = X_train_full.iloc[idx_tr], X_train_full.iloc[idx_va]\n",
        "    y_tr, y_va = y_train_full.iloc[idx_tr], y_train_full.iloc[idx_va]\n",
        "\n",
        "    # -----------------------------------------------------------------\n",
        "    # 3. Fit on the *training* split of this fold\n",
        "    # -----------------------------------------------------------------\n",
        "    mdl = catboost.CatBoostClassifier(\n",
        "        # objective & metrics\n",
        "        loss_function=\"Logloss\",\n",
        "        eval_metric=\"AUC\",\n",
        "        custom_metric=[\"AUC\", \"PRAUC\", \"F1\", \"Recall\", \"Precision\", \"Logloss\"],\n",
        "        use_best_model=True,\n",
        "\n",
        "        # capacity vs regularization\n",
        "        iterations=2000,\n",
        "        learning_rate=0.05,\n",
        "        depth=5,\n",
        "        l2_leaf_reg=10,\n",
        "\n",
        "        # randomness / bagging / feature subsampling\n",
        "        bootstrap_type=\"Bayesian\",\n",
        "        bagging_temperature=0.75,\n",
        "        rsm=0.8,\n",
        "        random_strength=0.5,\n",
        "\n",
        "        # class imbalance handling\n",
        "        auto_class_weights=\"Balanced\",\n",
        "        #class_weights=[1,36],\n",
        "\n",
        "        # borders / leaves\n",
        "        feature_border_type=\"GreedyLogSum\",\n",
        "        min_data_in_leaf=20,\n",
        "        boosting_type=\"Plain\",\n",
        "\n",
        "        # early stopping\n",
        "        od_type=\"Iter\",\n",
        "        od_wait=150,\n",
        "\n",
        "        verbose=200\n",
        "    )\n",
        "    mdl.fit(\n",
        "        X_tr, y_tr,\n",
        "        eval_set=(X_va, y_va),\n",
        "        use_best_model=False,\n",
        "        verbose=False\n",
        "    )\n",
        "\n",
        "    # -------------------------------------------------\n",
        "    # 4. Validation AUC for this fold\n",
        "    # -------------------------------------------------\n",
        "    val_pred = mdl.predict_proba(X_va)[:, 1]\n",
        "    val_auc  = roc_auc_score(y_va, val_pred)\n",
        "    fold_aucs.append(val_auc)\n",
        "    print(f\"Fold {fold} validation AUC : {val_auc:.4f}\")\n",
        "\n",
        "    # -------------------------------------------------\n",
        "    # 5. Accumulate predictions on the *final* test set\n",
        "    # -------------------------------------------------\n",
        "    test_preds += mdl.predict_proba(X_test)[:, 1] / k\n",
        "\n",
        "    # (optional) OOF on training data\n",
        "    oof_preds[idx_va] = val_pred\n",
        "\n",
        "# -------------------------------------------------\n",
        "# 6. Final metrics\n",
        "# -------------------------------------------------\n",
        "print(\"\\n=== CV Summary ===\")\n",
        "print(f\"Mean CV AUC : {np.mean(fold_aucs):.4f} ± {np.std(fold_aucs):.4f}\")\n",
        "print(f\"Folds AUC   : {[f'{a:.4f}' for a in fold_aucs]}\")\n",
        "\n",
        "test_auc = roc_auc_score(y_test, test_preds)\n",
        "print(f\"\\nFinal test AUC (averaged over {k} folds): {test_auc:.4f}\")\n",
        "\n",
        "# -------------------------------------------------\n",
        "# 7. (Optional) Refit on the *whole* train_full for deployment\n",
        "# -------------------------------------------------\n",
        "final_mdl = catboost.CatBoostClassifier(\n",
        "        # objective & metrics\n",
        "        loss_function=\"Logloss\",\n",
        "        eval_metric=\"AUC\",\n",
        "        custom_metric=[\"AUC\", \"PRAUC\", \"F1\", \"Recall\", \"Precision\", \"Logloss\"],\n",
        "        #use_best_model=True,\n",
        "\n",
        "        # capacity vs regularization\n",
        "        #iterations=2000,\n",
        "        iterations=int(mdl.best_iteration_ * 1.1),  # a bit more than best\n",
        "        learning_rate=0.05,\n",
        "        depth=5,\n",
        "        l2_leaf_reg=10,\n",
        "\n",
        "        # randomness / bagging / feature subsampling\n",
        "        bootstrap_type=\"Bayesian\",\n",
        "        bagging_temperature=0.75,\n",
        "        rsm=0.8,\n",
        "        random_strength=0.5,\n",
        "\n",
        "        # class imbalance handling\n",
        "        auto_class_weights=\"Balanced\",\n",
        "        #class_weights=[1,36],\n",
        "\n",
        "        # borders / leaves\n",
        "        feature_border_type=\"GreedyLogSum\",\n",
        "        min_data_in_leaf=20,\n",
        "        boosting_type=\"Plain\",\n",
        "\n",
        "        # early stopping\n",
        "        od_type=\"Iter\",\n",
        "        od_wait=150,\n",
        "\n",
        "        verbose=200\n",
        "    )\n",
        "final_mdl.fit(X_train_full, y_train_full)"
      ]
    },
    {
      "cell_type": "code",
      "execution_count": 13,
      "id": "f5195060-654a-4087-bf44-af8adeb4acaa",
      "metadata": {
        "id": "f5195060-654a-4087-bf44-af8adeb4acaa"
      },
      "outputs": [],
      "source": [
        "test['pred'] = final_mdl.predict_proba(test[features])[:,1]\n"
      ]
    },
    {
      "cell_type": "code",
      "execution_count": 14,
      "id": "a939788a-0004-43b7-860f-0334f484be42",
      "metadata": {
        "id": "a939788a-0004-43b7-860f-0334f484be42"
      },
      "outputs": [],
      "source": [
        "from sklearn import metrics# import roc_auc_score"
      ]
    },
    {
      "cell_type": "code",
      "execution_count": 15,
      "id": "475e9cea-b742-4956-9243-767fe5c19847",
      "metadata": {
        "id": "475e9cea-b742-4956-9243-767fe5c19847",
        "outputId": "f0f54fd8-6b5c-4d85-df6e-b79321cf1a5a",
        "colab": {
          "base_uri": "https://localhost:8080/"
        }
      },
      "outputs": [
        {
          "output_type": "stream",
          "name": "stdout",
          "text": [
            "0.8978964650013468\n"
          ]
        }
      ],
      "source": [
        "print(metrics.roc_auc_score(test[target], test['pred']))"
      ]
    },
    {
      "cell_type": "code",
      "execution_count": 15,
      "id": "84163bbd-4244-4809-90ea-4384e0aec8d5",
      "metadata": {
        "id": "84163bbd-4244-4809-90ea-4384e0aec8d5"
      },
      "outputs": [],
      "source": []
    },
    {
      "cell_type": "code",
      "execution_count": 16,
      "id": "c4ebb60d-a51f-4b78-abaf-1269482bef03",
      "metadata": {
        "id": "c4ebb60d-a51f-4b78-abaf-1269482bef03",
        "outputId": "1a2a3445-ca55-4244-9317-107bb51e2988",
        "colab": {
          "base_uri": "https://localhost:8080/"
        }
      },
      "outputs": [
        {
          "output_type": "execute_result",
          "data": {
            "text/plain": [
              "[('ph_seconds_since_last', np.float64(6.162511818651658)),\n",
              " ('post_seconds_since_last', np.float64(5.597892082335338)),\n",
              " ('Badg_Name_count', np.float64(4.40259123345504)),\n",
              " ('Badg_Class_sum', np.float64(4.264285666792623)),\n",
              " ('Badg_badge_incidence_sum', np.float64(3.9982327643762807)),\n",
              " ('post_age_days_min', np.float64(3.484582066994321)),\n",
              " ('comm_num_events_730d', np.float64(2.970965958935003)),\n",
              " ('ph_365dv730_change', np.float64(2.5075855120322825)),\n",
              " ('post_num_events_365d', np.float64(2.4423949789110666)),\n",
              " ('post_num_events_730d', np.float64(2.403023358667599)),\n",
              " ('ph_Id_count', np.float64(2.374252172074563)),\n",
              " ('comm_age_days_min', np.float64(2.3410039282651574)),\n",
              " ('comm_seconds_since_last', np.float64(2.2493005644263495)),\n",
              " ('comm_num_events_180d', np.float64(2.0872995919894217)),\n",
              " ('ph_num_events_365d', np.float64(1.9009099982922721)),\n",
              " ('Badg_Id_count', np.float64(1.8477907706921333)),\n",
              " ('post_Id_count', np.float64(1.8152501760623332)),\n",
              " ('subvote_seconds_since_last_min', np.float64(1.61779168138036)),\n",
              " ('badg_age_days_max', np.float64(1.5740780549929858)),\n",
              " ('badg_age_days_min', np.float64(1.568661069879902)),\n",
              " ('comm_num_events_365d', np.float64(1.5447005490285335)),\n",
              " ('Badg_badge_incidence_max', np.float64(1.5011230141273335)),\n",
              " ('Badg_badge_incidence_min', np.float64(1.4899897033949074)),\n",
              " ('post_ContentLicense_count', np.float64(1.3960989386375868)),\n",
              " ('comm_180dv365_change', np.float64(1.3564373146496451)),\n",
              " ('comm_365dv730_change', np.float64(1.3483769466736886)),\n",
              " ('badg_age_days_avg', np.float64(1.220368630693776)),\n",
              " ('ph_90dv180_change', np.float64(1.2075000408858583)),\n",
              " ('ph_num_events_30d', np.float64(1.1979519518244293)),\n",
              " ('ph_num_events_180d', np.float64(1.1156085372890983)),\n",
              " ('Badg_badge_incidence_avg', np.float64(1.062520528428032)),\n",
              " ('post_age_days_max', np.float64(1.0390940251682768)),\n",
              " ('comm_Id_count', np.float64(1.0242546812534674)),\n",
              " ('user_age_days', np.float64(1.0069045987643148)),\n",
              " ('ph_ContentLicense_count', np.float64(0.9951188896621775)),\n",
              " ('subvote_Id_count_min', np.float64(0.8723072573672122)),\n",
              " ('ph_num_events_730d', np.float64(0.7746295046419097)),\n",
              " ('badg_age_days_sum', np.float64(0.734257337172983)),\n",
              " ('post_90dv180_change', np.float64(0.712567699265074)),\n",
              " ('Badg_seconds_since_last', np.float64(0.6868626616090079)),\n",
              " ('post_age_days_avg', np.float64(0.6458644227894077)),\n",
              " ('comm_age_days_avg', np.float64(0.6399379222580311)),\n",
              " ('comm_ContentLicense_count', np.float64(0.6194488882995304)),\n",
              " ('subvote_Id_count_sum', np.float64(0.5708501501638554)),\n",
              " ('PostL_seconds_since_last_min', np.float64(0.5650469985179272)),\n",
              " ('subvote_seconds_since_last_avg', np.float64(0.5488708744474287)),\n",
              " ('comm_age_days_sum', np.float64(0.4981019405920366)),\n",
              " ('post_180dv365_change', np.float64(0.4813309837204321)),\n",
              " ('comm_90dv180_change', np.float64(0.45944085775943233)),\n",
              " ('Badg_180dv365_change', np.float64(0.4465170378130372)),\n",
              " ('PostL_seconds_since_last_avg', np.float64(0.4151622394045923)),\n",
              " ('subvote_seconds_since_last_max', np.float64(0.4066441603297264)),\n",
              " ('subvote_num_events_730d_sum', np.float64(0.4019915808556515)),\n",
              " ('Badg_num_events_60d', np.float64(0.3936001704593153)),\n",
              " ('ph_60dv90_change', np.float64(0.3696333215685951)),\n",
              " ('comm_age_days_max', np.float64(0.3687715076407227)),\n",
              " ('post_age_days_sum', np.float64(0.36338820117510195)),\n",
              " ('subvote_seconds_since_last_sum', np.float64(0.355823408212793)),\n",
              " ('ph_30dv60_change', np.float64(0.34699951772732907)),\n",
              " ('subvote_num_events_90d_avg', np.float64(0.32593034165610285)),\n",
              " ('comm_num_events_90d', np.float64(0.3242198847519676)),\n",
              " ('Badg_num_events_730d', np.float64(0.3224979125456238)),\n",
              " ('Badg_365dv730_change', np.float64(0.3068146263438535)),\n",
              " ('Badg_num_events_180d', np.float64(0.30142398635550327)),\n",
              " ('subvote_num_events_90d_max', np.float64(0.30084124343825774)),\n",
              " ('subvote_num_events_365d_avg', np.float64(0.2948582755880608)),\n",
              " ('subvote_Id_count_avg', np.float64(0.29243755892241335)),\n",
              " ('post_num_events_30d', np.float64(0.27378085309436156)),\n",
              " ('subvote_180dv365_change_min', np.float64(0.26915008300998505)),\n",
              " ('ph_180dv365_change', np.float64(0.26215097656519787)),\n",
              " ('subvote_num_events_180d_min', np.float64(0.25750417162329625)),\n",
              " ('post_num_events_60d', np.float64(0.24890202021359809)),\n",
              " ('Badg_num_events_365d', np.float64(0.24880583642654194)),\n",
              " ('subvote_num_events_730d_min', np.float64(0.24447187043584526)),\n",
              " ('Badg_90dv180_change', np.float64(0.2441832335190233)),\n",
              " ('vote_age_days_avg', np.float64(0.24043015168929435)),\n",
              " ('subvote_num_events_90d_min', np.float64(0.2362240221337214)),\n",
              " ('subvote_180dv365_change_max', np.float64(0.23229558857596896)),\n",
              " ('Badg_num_events_90d', np.float64(0.2166629349941694)),\n",
              " ('subvote_num_events_30d_max', np.float64(0.21289387271336757)),\n",
              " ('subvote_num_events_60d_avg', np.float64(0.20923574869970316)),\n",
              " ('PostL_num_events_730d_avg', np.float64(0.20645545502389923)),\n",
              " ('subvote_90dv180_change_max', np.float64(0.19639762781408082)),\n",
              " ('subvote_Id_count_max', np.float64(0.17616681197717293)),\n",
              " ('comm_num_events_60d', np.float64(0.1745235185852593)),\n",
              " ('subvote_num_events_365d_min', np.float64(0.1657670943567192)),\n",
              " ('subvote_30dv60_change_max', np.float64(0.16006997873344508)),\n",
              " ('Badg_30dv60_change', np.float64(0.15406531563356118)),\n",
              " ('subvote_365dv730_change_min', np.float64(0.15307877325305091)),\n",
              " ('subvote_60dv90_change_min', np.float64(0.15227295929907012)),\n",
              " ('subvote_num_events_730d_max', np.float64(0.14826400948380627)),\n",
              " ('vote_seconds_since_last', np.float64(0.13096589298418868)),\n",
              " ('PostL_Id_count_sum', np.float64(0.129780329779936)),\n",
              " ('vote_num_events_30d', np.float64(0.12031672422864971)),\n",
              " ('PostL_num_events_365d_min', np.float64(0.1202912943982062)),\n",
              " ('PostL_seconds_since_last_sum', np.float64(0.11712827106319454)),\n",
              " ('subvote_num_events_30d_avg', np.float64(0.11305242643974399)),\n",
              " ('post_num_events_90d', np.float64(0.11059690426826939)),\n",
              " ('subvote_num_events_180d_sum', np.float64(0.10871448439982069)),\n",
              " ('Badg_num_events_30d', np.float64(0.1069967501238332)),\n",
              " ('subvote_num_events_365d_max', np.float64(0.10414796589739524)),\n",
              " ('PostL_num_events_30d_sum', np.float64(0.1019098875876951)),\n",
              " ('PostL_num_events_180d_sum', np.float64(0.09852201690186267)),\n",
              " ('PostL_num_events_180d_min', np.float64(0.0940370666825578)),\n",
              " ('subvote_num_events_60d_sum', np.float64(0.0940198734382323)),\n",
              " ('vote_age_days_sum', np.float64(0.08976995392369637)),\n",
              " ('subvote_60dv90_change_avg', np.float64(0.08896560045736068)),\n",
              " ('PostL_num_events_90d_max', np.float64(0.08778756055864734)),\n",
              " ('comm_60dv90_change', np.float64(0.08777072286996171)),\n",
              " ('PostL_seconds_since_last_max', np.float64(0.08753582205767393)),\n",
              " ('PostL_Id_count_avg', np.float64(0.08405339112964941)),\n",
              " ('subvote_365dv730_change_sum', np.float64(0.08339906323286415)),\n",
              " ('subvote_90dv180_change_sum', np.float64(0.0826338405101911)),\n",
              " ('post_365dv730_change', np.float64(0.0775474500621977)),\n",
              " ('subvote_30dv60_change_sum', np.float64(0.07606449073004123)),\n",
              " ('subvote_30dv60_change_min', np.float64(0.07336459327311572)),\n",
              " ('comm_30dv60_change', np.float64(0.06766479991559915)),\n",
              " ('ph_num_events_90d', np.float64(0.06460686080068456)),\n",
              " ('Badg_60dv90_change', np.float64(0.06089210314243602)),\n",
              " ('comm_num_events_30d', np.float64(0.0522190580010512)),\n",
              " ('vote_age_days_min', np.float64(0.05057403596515933)),\n",
              " ('PostL_num_events_30d_avg', np.float64(0.050378200037206645)),\n",
              " ('subvote_180dv365_change_avg', np.float64(0.04888860229021369)),\n",
              " ('PostL_30dv60_change_min', np.float64(0.04439233204443952)),\n",
              " ('subvote_num_events_60d_max', np.float64(0.0427106392546999)),\n",
              " ('subvote_num_events_180d_avg', np.float64(0.04136890476618788)),\n",
              " ('vote_num_events_60d', np.float64(0.040650660367093756)),\n",
              " ('subvote_180dv365_change_sum', np.float64(0.04009834373700199)),\n",
              " ('subvote_num_events_30d_sum', np.float64(0.03951392396355138)),\n",
              " ('PostL_Id_count_min', np.float64(0.03946852760760015)),\n",
              " ('subvote_90dv180_change_min', np.float64(0.03913724987976865)),\n",
              " ('PostL_num_events_730d_sum', np.float64(0.03888575786953853)),\n",
              " ('post_num_events_180d', np.float64(0.037367815809705544)),\n",
              " ('PostL_num_events_180d_avg', np.float64(0.03537126060241677)),\n",
              " ('subvote_num_events_90d_sum', np.float64(0.03530684170335966)),\n",
              " ('PostL_Id_count_max', np.float64(0.0317885808111774)),\n",
              " ('vote_num_events_180d', np.float64(0.0313459477798048)),\n",
              " ('subvote_num_events_730d_avg', np.float64(0.02473260912393075)),\n",
              " ('PostL_60dv90_change_max', np.float64(0.023737847327567552)),\n",
              " ('Badg_TagBased_sum', np.float64(0.02347257253951003)),\n",
              " ('PostL_60dv90_change_avg', np.float64(0.0233837145670747)),\n",
              " ('PostL_num_events_365d_sum', np.float64(0.022059820520705885)),\n",
              " ('subvote_num_events_180d_max', np.float64(0.02108976179315198)),\n",
              " ('subvote_90dv180_change_avg', np.float64(0.020958823221173845)),\n",
              " ('PostL_30dv60_change_avg', np.float64(0.017655890814644592)),\n",
              " ('subvote_60dv90_change_max', np.float64(0.016401675410479218)),\n",
              " ('subvote_60dv90_change_sum', np.float64(0.0160672330079204)),\n",
              " ('PostL_num_events_90d_min', np.float64(0.0142493457506211)),\n",
              " ('vote_365dv730_change', np.float64(0.01305553481364126)),\n",
              " ('PostL_30dv60_change_sum', np.float64(0.0099585322583137)),\n",
              " ('PostL_num_events_365d_avg', np.float64(0.0038966345687413044)),\n",
              " ('ph_num_events_60d', np.float64(0.0)),\n",
              " ('post_60dv90_change', np.float64(0.0)),\n",
              " ('post_30dv60_change', np.float64(0.0)),\n",
              " ('subvote_365dv730_change_max', np.float64(0.0)),\n",
              " ('subvote_365dv730_change_avg', np.float64(0.0)),\n",
              " ('subvote_30dv60_change_avg', np.float64(0.0)),\n",
              " ('subvote_num_events_365d_sum', np.float64(0.0)),\n",
              " ('subvote_num_events_60d_min', np.float64(0.0)),\n",
              " ('subvote_num_events_30d_min', np.float64(0.0)),\n",
              " ('PostL_60dv90_change_min', np.float64(0.0)),\n",
              " ('PostL_60dv90_change_sum', np.float64(0.0)),\n",
              " ('PostL_30dv60_change_max', np.float64(0.0)),\n",
              " ('PostL_num_events_730d_max', np.float64(0.0)),\n",
              " ('PostL_num_events_730d_min', np.float64(0.0)),\n",
              " ('PostL_num_events_365d_max', np.float64(0.0)),\n",
              " ('PostL_num_events_180d_max', np.float64(0.0)),\n",
              " ('PostL_num_events_90d_sum', np.float64(0.0)),\n",
              " ('PostL_num_events_90d_avg', np.float64(0.0)),\n",
              " ('PostL_num_events_60d_max', np.float64(0.0)),\n",
              " ('PostL_num_events_60d_min', np.float64(0.0)),\n",
              " ('PostL_num_events_60d_sum', np.float64(0.0)),\n",
              " ('PostL_num_events_60d_avg', np.float64(0.0)),\n",
              " ('PostL_num_events_30d_max', np.float64(0.0)),\n",
              " ('PostL_num_events_30d_min', np.float64(0.0)),\n",
              " ('vote_180dv365_change', np.float64(0.0)),\n",
              " ('vote_90dv180_change', np.float64(0.0)),\n",
              " ('vote_60dv90_change', np.float64(0.0)),\n",
              " ('vote_30dv60_change', np.float64(0.0)),\n",
              " ('vote_num_events_730d', np.float64(0.0)),\n",
              " ('vote_num_events_365d', np.float64(0.0)),\n",
              " ('vote_num_events_90d', np.float64(0.0)),\n",
              " ('vote_age_days_max', np.float64(0.0)),\n",
              " ('vote_Id_count', np.float64(0.0))]"
            ]
          },
          "metadata": {},
          "execution_count": 16
        }
      ],
      "source": [
        "list(reversed(sorted(zip(final_mdl.feature_names_, final_mdl.feature_importances_), key=lambda x: x[1])))"
      ]
    },
    {
      "cell_type": "code",
      "execution_count": 16,
      "id": "3f6d5e46-159d-4d48-8fcf-292432de5433",
      "metadata": {
        "id": "3f6d5e46-159d-4d48-8fcf-292432de5433"
      },
      "outputs": [],
      "source": []
    },
    {
      "cell_type": "code",
      "execution_count": 16,
      "id": "1d59520c-a8dd-431a-84d1-39f618de97f8",
      "metadata": {
        "id": "1d59520c-a8dd-431a-84d1-39f618de97f8"
      },
      "outputs": [],
      "source": []
    },
    {
      "cell_type": "code",
      "execution_count": 16,
      "id": "6c45b423-51de-4e1c-8d4c-6d6319f31ba8",
      "metadata": {
        "id": "6c45b423-51de-4e1c-8d4c-6d6319f31ba8"
      },
      "outputs": [],
      "source": []
    },
    {
      "cell_type": "code",
      "execution_count": 16,
      "id": "677b0c91-693b-4a1b-aa10-d49172dc3c84",
      "metadata": {
        "id": "677b0c91-693b-4a1b-aa10-d49172dc3c84"
      },
      "outputs": [],
      "source": []
    },
    {
      "cell_type": "code",
      "execution_count": 16,
      "id": "fb4c15cf-c460-4c7a-82d6-1eb85d42fb0b",
      "metadata": {
        "id": "fb4c15cf-c460-4c7a-82d6-1eb85d42fb0b"
      },
      "outputs": [],
      "source": []
    }
  ],
  "metadata": {
    "kernelspec": {
      "display_name": "Python 3 (ipykernel)",
      "language": "python",
      "name": "python3"
    },
    "language_info": {
      "codemirror_mode": {
        "name": "ipython",
        "version": 3
      },
      "file_extension": ".py",
      "mimetype": "text/x-python",
      "name": "python",
      "nbconvert_exporter": "python",
      "pygments_lexer": "ipython3",
      "version": "3.10.17"
    },
    "colab": {
      "provenance": []
    }
  },
  "nbformat": 4,
  "nbformat_minor": 5
}